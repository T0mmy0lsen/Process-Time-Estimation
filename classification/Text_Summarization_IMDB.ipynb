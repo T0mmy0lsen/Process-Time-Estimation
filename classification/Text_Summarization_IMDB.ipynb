{
 "cells": [
  {
   "cell_type": "code",
   "execution_count": 1,
   "metadata": {
    "collapsed": true
   },
   "outputs": [
    {
     "name": "stderr",
     "output_type": "stream",
     "text": [
      "C:\\Git\\Process-Time-Estimation\\classification\\dataloader\\loader.py:78: SyntaxWarning: \"is\" with a literal. Did you mean \"==\"?\n",
      "  if test_or_train is 'train':\n"
     ]
    }
   ],
   "source": [
    "import config\n",
    "from model.cnn_document_model import DocumentModel\n",
    "from preprocessing.utils import Preprocess, remove_empty_docs\n",
    "import numpy as np\n",
    "import pandas as pd\n",
    "from nltk.tokenize import sent_tokenize\n",
    "from classification.dataloader.loader import Loader\n",
    "\n",
    "import keras.backend as kb"
   ]
  },
  {
   "cell_type": "code",
   "execution_count": 2,
   "outputs": [
    {
     "ename": "FileNotFoundError",
     "evalue": "[Errno 2] No such file or directory: 'model/imdb/model_02.json'",
     "output_type": "error",
     "traceback": [
      "\u001B[1;31m---------------------------------------------------------------------------\u001B[0m",
      "\u001B[1;31mFileNotFoundError\u001B[0m                         Traceback (most recent call last)",
      "\u001B[1;32m~\\AppData\\Local\\Temp/ipykernel_8716/1528957997.py\u001B[0m in \u001B[0;36m<module>\u001B[1;34m\u001B[0m\n\u001B[1;32m----> 1\u001B[1;33m \u001B[0mimdb_model\u001B[0m \u001B[1;33m=\u001B[0m \u001B[0mDocumentModel\u001B[0m\u001B[1;33m.\u001B[0m\u001B[0mload_model\u001B[0m\u001B[1;33m(\u001B[0m\u001B[0mconfig\u001B[0m\u001B[1;33m.\u001B[0m\u001B[0mMODEL_DIR\u001B[0m \u001B[1;33m+\u001B[0m \u001B[1;34m'/imdb/model_02.json'\u001B[0m\u001B[1;33m)\u001B[0m\u001B[1;33m\u001B[0m\u001B[1;33m\u001B[0m\u001B[0m\n\u001B[0m\u001B[0;32m      2\u001B[0m \u001B[0mimdb_model\u001B[0m\u001B[1;33m.\u001B[0m\u001B[0mload_model_weights\u001B[0m\u001B[1;33m(\u001B[0m\u001B[0mconfig\u001B[0m\u001B[1;33m.\u001B[0m\u001B[0mMODEL_DIR\u001B[0m \u001B[1;33m+\u001B[0m \u001B[1;34m'/imdb/model_02.hdf5'\u001B[0m\u001B[1;33m)\u001B[0m\u001B[1;33m\u001B[0m\u001B[1;33m\u001B[0m\u001B[0m\n\u001B[0;32m      3\u001B[0m \u001B[1;33m\u001B[0m\u001B[0m\n\u001B[0;32m      4\u001B[0m \u001B[0mmodel\u001B[0m \u001B[1;33m=\u001B[0m \u001B[0mimdb_model\u001B[0m\u001B[1;33m.\u001B[0m\u001B[0mget_classification_model\u001B[0m\u001B[1;33m(\u001B[0m\u001B[1;33m)\u001B[0m\u001B[1;33m\u001B[0m\u001B[1;33m\u001B[0m\u001B[0m\n\u001B[0;32m      5\u001B[0m \u001B[0mmodel\u001B[0m\u001B[1;33m.\u001B[0m\u001B[0mcompile\u001B[0m\u001B[1;33m(\u001B[0m\u001B[0mloss\u001B[0m\u001B[1;33m=\u001B[0m\u001B[1;34m\"binary_crossentropy\"\u001B[0m\u001B[1;33m,\u001B[0m \u001B[0moptimizer\u001B[0m\u001B[1;33m=\u001B[0m\u001B[1;34m'rmsprop'\u001B[0m\u001B[1;33m,\u001B[0m \u001B[0mmetrics\u001B[0m\u001B[1;33m=\u001B[0m\u001B[1;33m[\u001B[0m\u001B[1;34m\"accuracy\"\u001B[0m\u001B[1;33m]\u001B[0m\u001B[1;33m)\u001B[0m\u001B[1;33m\u001B[0m\u001B[1;33m\u001B[0m\u001B[0m\n",
      "\u001B[1;32mC:\\Git\\Process-Time-Estimation\\classification\\model\\cnn_document_model.py\u001B[0m in \u001B[0;36mload_model\u001B[1;34m(file_name)\u001B[0m\n\u001B[0;32m    216\u001B[0m \u001B[1;33m\u001B[0m\u001B[0m\n\u001B[0;32m    217\u001B[0m     \u001B[1;32mdef\u001B[0m \u001B[0mload_model\u001B[0m\u001B[1;33m(\u001B[0m\u001B[0mfile_name\u001B[0m\u001B[1;33m)\u001B[0m\u001B[1;33m:\u001B[0m\u001B[1;33m\u001B[0m\u001B[1;33m\u001B[0m\u001B[0m\n\u001B[1;32m--> 218\u001B[1;33m         \u001B[1;32mwith\u001B[0m \u001B[0mopen\u001B[0m\u001B[1;33m(\u001B[0m\u001B[0mfile_name\u001B[0m\u001B[1;33m,\u001B[0m \u001B[1;34m\"r\"\u001B[0m\u001B[1;33m,\u001B[0m \u001B[0mencoding\u001B[0m\u001B[1;33m=\u001B[0m\u001B[1;34m\"utf-8\"\u001B[0m\u001B[1;33m)\u001B[0m \u001B[1;32mas\u001B[0m \u001B[0mhp_file\u001B[0m\u001B[1;33m:\u001B[0m\u001B[1;33m\u001B[0m\u001B[1;33m\u001B[0m\u001B[0m\n\u001B[0m\u001B[0;32m    219\u001B[0m             \u001B[0mmodel_params\u001B[0m \u001B[1;33m=\u001B[0m \u001B[0mjson\u001B[0m\u001B[1;33m.\u001B[0m\u001B[0mload\u001B[0m\u001B[1;33m(\u001B[0m\u001B[0mhp_file\u001B[0m\u001B[1;33m)\u001B[0m\u001B[1;33m\u001B[0m\u001B[1;33m\u001B[0m\u001B[0m\n\u001B[0;32m    220\u001B[0m             \u001B[0mdoc_model\u001B[0m \u001B[1;33m=\u001B[0m \u001B[0mDocumentModel\u001B[0m\u001B[1;33m(\u001B[0m\u001B[1;33m**\u001B[0m\u001B[0mmodel_params\u001B[0m\u001B[1;33m)\u001B[0m\u001B[1;33m\u001B[0m\u001B[1;33m\u001B[0m\u001B[0m\n",
      "\u001B[1;31mFileNotFoundError\u001B[0m: [Errno 2] No such file or directory: 'model/imdb/model_02.json'"
     ]
    }
   ],
   "source": [
    "imdb_model = DocumentModel.load_model(config.MODEL_DIR + '/imdb/model_02.json')\n",
    "imdb_model.load_model_weights(config.MODEL_DIR + '/imdb/model_02.hdf5')\n",
    "\n",
    "model = imdb_model.get_classification_model()\n",
    "model.compile(loss=\"binary_crossentropy\", optimizer='rmsprop', metrics=[\"accuracy\"])"
   ],
   "metadata": {
    "collapsed": false,
    "pycharm": {
     "name": "#%%\n"
    }
   }
  },
  {
   "cell_type": "code",
   "execution_count": null,
   "outputs": [],
   "source": [
    "train_df = Loader.load_imdb_data(directory = 'train')\n",
    "print(train_df.shape)\n",
    "\n",
    "corpus = train_df['review'].tolist()\n",
    "target = train_df['sentiment'].tolist()\n",
    "corpus, target = remove_empty_docs(corpus, target)\n",
    "print(len(corpus))"
   ],
   "metadata": {
    "collapsed": false,
    "pycharm": {
     "name": "#%%\n"
    }
   }
  },
  {
   "cell_type": "code",
   "execution_count": null,
   "outputs": [],
   "source": [
    "preprocessor = Preprocess(corpus=corpus)\n",
    "corpus_to_seq = preprocessor.fit()\n",
    "\n",
    "corpus = train_df['review'].tolist()\n",
    "target = train_df['sentiment'].tolist()\n",
    "corpus_to_seq = preprocessor.transform(corpus)\n",
    "\n",
    "x_train = np.array(corpus_to_seq)\n",
    "y_train = np.array(target)\n",
    "\n",
    "print(x_train.shape, y_train.shape)"
   ],
   "metadata": {
    "collapsed": false,
    "pycharm": {
     "name": "#%%\n"
    }
   }
  },
  {
   "cell_type": "code",
   "execution_count": null,
   "outputs": [],
   "source": [
    "print('Evaluating Model ...')\n",
    "print(model.evaluate(x_train, y_train))\n",
    "\n",
    "preds = model.predict(x_train)\n",
    "\n",
    "#invert predicted label\n",
    "pseudo_label = np.subtract(1,preds)"
   ],
   "metadata": {
    "collapsed": false,
    "pycharm": {
     "name": "#%%\n"
    }
   }
  },
  {
   "cell_type": "code",
   "execution_count": null,
   "outputs": [],
   "source": [
    "#Get the learned sentence embeddings\n",
    "sentence_ebd = imdb_model.get_sentence_model().predict(x_train)\n",
    "\n",
    "input_tensors = [model.inputs[0], # input data\n",
    "                 model.sample_weights[0], # how much to weight each sample by\n",
    "                 model.targets[0], # labels\n",
    "]\n",
    "#variable tensor at the sentence embeding layer\n",
    "weights = imdb_model.get_sentence_model().outputs\n",
    "\n",
    "#calculate gradient of the total model loss w.r.t\n",
    "#the variables at sentence embd layer\n",
    "gradients = model.optimizer.get_gradients(model.total_loss, weights)\n",
    "get_gradients = kb.function(inputs=input_tensors, outputs=gradients)"
   ],
   "metadata": {
    "collapsed": false,
    "pycharm": {
     "name": "#%%\n"
    }
   }
  },
  {
   "cell_type": "code",
   "execution_count": null,
   "outputs": [],
   "source": [
    "document_number = 2\n",
    "kb.set_learning_phase(0)\n",
    "inputs = [[x_train[document_number]], # X\n",
    "          [1], # sample weights\n",
    "          [[pseudo_label[document_number][0]]], # y\n",
    "]\n",
    "grad = get_gradients(inputs)\n",
    "\n",
    "sent_score = []\n",
    "for i in range(Preprocess.NUM_SENTENCES):\n",
    "    #sent_score.append((i, -np.abs(np.dot(grad[0][0][i],sentence_ebd[document_number][i])))) #DECREASING\n",
    "    sent_score.append((i, -np.linalg.norm(grad[0][0][i])))\n",
    "\n",
    "sent_score.sort(key=lambda tup: tup[1])\n",
    "summary_sentences = [ i for i, s in sent_score[:4]]\n",
    "\n",
    "doc = corpus[document_number]\n",
    "label = y_train[document_number]\n",
    "prediction = preds[document_number]\n",
    "print(doc, label , prediction)\n",
    "\n",
    "sentences = sent_tokenize(doc)\n",
    "for i in summary_sentences:\n",
    "    print(i, sentences[i])"
   ],
   "metadata": {
    "collapsed": false,
    "pycharm": {
     "name": "#%%\n"
    }
   }
  }
 ],
 "metadata": {
  "kernelspec": {
   "display_name": "Python 3",
   "language": "python",
   "name": "python3"
  },
  "language_info": {
   "codemirror_mode": {
    "name": "ipython",
    "version": 2
   },
   "file_extension": ".py",
   "mimetype": "text/x-python",
   "name": "python",
   "nbconvert_exporter": "python",
   "pygments_lexer": "ipython2",
   "version": "2.7.6"
  }
 },
 "nbformat": 4,
 "nbformat_minor": 0
}