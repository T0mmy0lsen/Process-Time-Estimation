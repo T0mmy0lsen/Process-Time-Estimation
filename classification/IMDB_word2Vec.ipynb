{
 "cells": [
  {
   "cell_type": "code",
   "execution_count": 13,
   "metadata": {
    "collapsed": true
   },
   "outputs": [],
   "source": [
    "from os.path import exists\n",
    "\n",
    "import config\n",
    "from dataloader.loader import Loader\n",
    "import pandas as pd\n",
    "from gensim.models import word2vec\n",
    "import nltk"
   ]
  },
  {
   "cell_type": "code",
   "execution_count": 14,
   "outputs": [],
   "source": [
    "unsupervised = pd.read_csv(config.IMDB_DATA_CSV + '/movie_reviews_unsup.csv', encoding='ISO-8859-1')\n",
    "train_df = pd.read_csv(config.IMDB_DATA_CSV + '/movie_reviews_train.csv', encoding='ISO-8859-1')\n",
    "test_df = pd.read_csv(config.IMDB_DATA_CSV + '/movie_reviews_test.csv', encoding='ISO-8859-1')"
   ],
   "metadata": {
    "collapsed": false,
    "pycharm": {
     "name": "#%%\n"
    }
   }
  },
  {
   "cell_type": "code",
   "execution_count": 15,
   "outputs": [],
   "source": [
    "corpus = unsupervised['review'].tolist() + train_df['review'].tolist() + test_df['review'].tolist()"
   ],
   "metadata": {
    "collapsed": false,
    "pycharm": {
     "name": "#%%\n"
    }
   }
  },
  {
   "cell_type": "code",
   "execution_count": 16,
   "outputs": [],
   "source": [
    "# tokenize sentences in corpus\n",
    "wpt = nltk.WordPunctTokenizer()\n",
    "tokenized_corpus = [wpt.tokenize(document.lower()) for document in corpus]"
   ],
   "metadata": {
    "collapsed": false,
    "pycharm": {
     "name": "#%%\n"
    }
   }
  },
  {
   "cell_type": "code",
   "execution_count": 17,
   "outputs": [],
   "source": [
    "# Set values for various parameters\n",
    "feature_size = 50           # Word vector dimensionality\n",
    "window_context = 10         # Context window size\n",
    "min_word_count = 5          # Minimum word count\n",
    "sample = 1e-3               # Downsample setting for frequent words"
   ],
   "metadata": {
    "collapsed": false,
    "pycharm": {
     "name": "#%%\n"
    }
   }
  },
  {
   "cell_type": "code",
   "execution_count": 18,
   "outputs": [],
   "source": [
    "w2v_model = word2vec.Word2Vec(tokenized_corpus, window=window_context, min_count=min_word_count, sample=sample)"
   ],
   "metadata": {
    "collapsed": false,
    "pycharm": {
     "name": "#%%\n"
    }
   }
  },
  {
   "cell_type": "code",
   "execution_count": 19,
   "outputs": [],
   "source": [
    "similar_words = {search_term: [item[0] for item in w2v_model.wv.most_similar([search_term], topn=5)]\n",
    "                  for search_term in [\n",
    "                     'good','superior','violent', 'romantic', 'nasty', 'unfortunate',\n",
    "                     'predictable', 'hilarious', 'fascinating', 'boring','confused', 'sensitive',\n",
    "                     'imaginative','senseless', 'bland','disappointing']}"
   ],
   "metadata": {
    "collapsed": false,
    "pycharm": {
     "name": "#%%\n"
    }
   }
  },
  {
   "cell_type": "code",
   "execution_count": 20,
   "outputs": [
    {
     "data": {
      "text/plain": "{'good': ['bad', 'decent', 'great', 'passable', 'nice'],\n 'superior': ['inferior', 'exceeds', 'surpasses', 'fetched', 'lesser'],\n 'violent': ['brutal', 'violence', 'gruesome', 'sadistic', 'sickening'],\n 'romantic': ['romance', 'screwball', 'drama', 'quirky', 'charming'],\n 'nasty': ['gruesome', 'sadistic', 'gory', 'sleazy', 'bloody'],\n 'unfortunate': ['unacceptable', 'important', 'immoral', 'error', 'obvious'],\n 'predictable': ['formulaic', 'contrived', 'unoriginal', 'corny', 'trite'],\n 'hilarious': ['hysterical', 'funny', 'priceless', 'comical', 'amusing'],\n 'fascinating': ['compelling', 'gripping', 'rewarding', 'complex', 'unusual'],\n 'boring': ['dull', 'tedious', 'pointless', 'uninteresting', 'predictable'],\n 'confused': ['irritated', 'frustrated', 'upset', 'puzzled', 'annoyed'],\n 'sensitive': ['sincere', 'cynical', 'thoughtful', 'naive', 'gentle'],\n 'imaginative': ['innovative',\n  'inventive',\n  'ingenious',\n  'absorbing',\n  'stylish'],\n 'senseless': ['pointless',\n  'nonsensical',\n  'meaningless',\n  'incoherent',\n  'disgusting'],\n 'bland': ['dull',\n  'uninteresting',\n  'forgettable',\n  'uninspired',\n  'unimaginative'],\n 'disappointing': ['satisfying',\n  'unsatisfying',\n  'forgettable',\n  'disappointed',\n  'enjoyable']}"
     },
     "execution_count": 20,
     "metadata": {},
     "output_type": "execute_result"
    }
   ],
   "source": [
    "similar_words"
   ],
   "metadata": {
    "collapsed": false,
    "pycharm": {
     "name": "#%%\n"
    }
   }
  },
  {
   "cell_type": "code",
   "execution_count": 26,
   "outputs": [],
   "source": [
    "# w2v_model.wv.save_word2vec_format(fname='imdb_word2vec.txt')\n",
    "file = 'data/word2vec/imdb_word2vec.txt'\n",
    "from gensim.models import KeyedVectors\n",
    "word_vectors = KeyedVectors.load_word2vec_format(file, binary=False)"
   ],
   "metadata": {
    "collapsed": false,
    "pycharm": {
     "name": "#%%\n"
    }
   }
  },
  {
   "cell_type": "code",
   "execution_count": 28,
   "outputs": [
    {
     "data": {
      "text/plain": "                          0              1            2              3  \\\ngood                    bad         decent        great       passable   \nsuperior           inferior        exceeds    surpasses        fetched   \nviolent              brutal       violence     gruesome       sadistic   \nromantic            romance      screwball        drama         quirky   \nnasty              gruesome       sadistic         gory         sleazy   \nunfortunate    unacceptable      important      immoral          error   \npredictable       formulaic      contrived   unoriginal          corny   \nhilarious        hysterical          funny    priceless        comical   \nfascinating      compelling       gripping    rewarding        complex   \nboring                 dull        tedious    pointless  uninteresting   \nconfused          irritated     frustrated        upset        puzzled   \nsensitive           sincere        cynical   thoughtful          naive   \nimaginative      innovative      inventive    ingenious      absorbing   \nsenseless         pointless    nonsensical  meaningless     incoherent   \nbland                  dull  uninteresting  forgettable     uninspired   \ndisappointing    satisfying   unsatisfying  forgettable   disappointed   \n\n                           4  \ngood                    nice  \nsuperior              lesser  \nviolent            sickening  \nromantic            charming  \nnasty                 bloody  \nunfortunate          obvious  \npredictable            trite  \nhilarious            amusing  \nfascinating          unusual  \nboring           predictable  \nconfused             annoyed  \nsensitive             gentle  \nimaginative          stylish  \nsenseless         disgusting  \nbland          unimaginative  \ndisappointing      enjoyable  ",
      "text/html": "<div>\n<style scoped>\n    .dataframe tbody tr th:only-of-type {\n        vertical-align: middle;\n    }\n\n    .dataframe tbody tr th {\n        vertical-align: top;\n    }\n\n    .dataframe thead th {\n        text-align: right;\n    }\n</style>\n<table border=\"1\" class=\"dataframe\">\n  <thead>\n    <tr style=\"text-align: right;\">\n      <th></th>\n      <th>0</th>\n      <th>1</th>\n      <th>2</th>\n      <th>3</th>\n      <th>4</th>\n    </tr>\n  </thead>\n  <tbody>\n    <tr>\n      <th>good</th>\n      <td>bad</td>\n      <td>decent</td>\n      <td>great</td>\n      <td>passable</td>\n      <td>nice</td>\n    </tr>\n    <tr>\n      <th>superior</th>\n      <td>inferior</td>\n      <td>exceeds</td>\n      <td>surpasses</td>\n      <td>fetched</td>\n      <td>lesser</td>\n    </tr>\n    <tr>\n      <th>violent</th>\n      <td>brutal</td>\n      <td>violence</td>\n      <td>gruesome</td>\n      <td>sadistic</td>\n      <td>sickening</td>\n    </tr>\n    <tr>\n      <th>romantic</th>\n      <td>romance</td>\n      <td>screwball</td>\n      <td>drama</td>\n      <td>quirky</td>\n      <td>charming</td>\n    </tr>\n    <tr>\n      <th>nasty</th>\n      <td>gruesome</td>\n      <td>sadistic</td>\n      <td>gory</td>\n      <td>sleazy</td>\n      <td>bloody</td>\n    </tr>\n    <tr>\n      <th>unfortunate</th>\n      <td>unacceptable</td>\n      <td>important</td>\n      <td>immoral</td>\n      <td>error</td>\n      <td>obvious</td>\n    </tr>\n    <tr>\n      <th>predictable</th>\n      <td>formulaic</td>\n      <td>contrived</td>\n      <td>unoriginal</td>\n      <td>corny</td>\n      <td>trite</td>\n    </tr>\n    <tr>\n      <th>hilarious</th>\n      <td>hysterical</td>\n      <td>funny</td>\n      <td>priceless</td>\n      <td>comical</td>\n      <td>amusing</td>\n    </tr>\n    <tr>\n      <th>fascinating</th>\n      <td>compelling</td>\n      <td>gripping</td>\n      <td>rewarding</td>\n      <td>complex</td>\n      <td>unusual</td>\n    </tr>\n    <tr>\n      <th>boring</th>\n      <td>dull</td>\n      <td>tedious</td>\n      <td>pointless</td>\n      <td>uninteresting</td>\n      <td>predictable</td>\n    </tr>\n    <tr>\n      <th>confused</th>\n      <td>irritated</td>\n      <td>frustrated</td>\n      <td>upset</td>\n      <td>puzzled</td>\n      <td>annoyed</td>\n    </tr>\n    <tr>\n      <th>sensitive</th>\n      <td>sincere</td>\n      <td>cynical</td>\n      <td>thoughtful</td>\n      <td>naive</td>\n      <td>gentle</td>\n    </tr>\n    <tr>\n      <th>imaginative</th>\n      <td>innovative</td>\n      <td>inventive</td>\n      <td>ingenious</td>\n      <td>absorbing</td>\n      <td>stylish</td>\n    </tr>\n    <tr>\n      <th>senseless</th>\n      <td>pointless</td>\n      <td>nonsensical</td>\n      <td>meaningless</td>\n      <td>incoherent</td>\n      <td>disgusting</td>\n    </tr>\n    <tr>\n      <th>bland</th>\n      <td>dull</td>\n      <td>uninteresting</td>\n      <td>forgettable</td>\n      <td>uninspired</td>\n      <td>unimaginative</td>\n    </tr>\n    <tr>\n      <th>disappointing</th>\n      <td>satisfying</td>\n      <td>unsatisfying</td>\n      <td>forgettable</td>\n      <td>disappointed</td>\n      <td>enjoyable</td>\n    </tr>\n  </tbody>\n</table>\n</div>"
     },
     "execution_count": 28,
     "metadata": {},
     "output_type": "execute_result"
    }
   ],
   "source": [
    "similar_words = {search_term: [item[0] for item in word_vectors.most_similar([search_term], topn=5)]\n",
    "                  for search_term in ['good','superior','violent', 'romantic', 'nasty', 'unfortunate',\n",
    "                                      'predictable', 'hilarious', 'fascinating', 'boring','confused', 'sensitive',\n",
    "                                      'imaginative','senseless', 'bland','disappointing']}\n",
    "pd.DataFrame(similar_words).transpose()"
   ],
   "metadata": {
    "collapsed": false,
    "pycharm": {
     "name": "#%%\n"
    }
   }
  },
  {
   "cell_type": "code",
   "execution_count": 29,
   "outputs": [
    {
     "name": "stderr",
     "output_type": "stream",
     "text": [
      "C:\\Users\\Tommy\\anaconda3\\envs\\optimization\\lib\\site-packages\\sklearn\\manifold\\_t_sne.py:780: FutureWarning: The default initialization in TSNE will change from 'random' to 'pca' in 1.2.\n",
      "  warnings.warn(\n",
      "C:\\Users\\Tommy\\anaconda3\\envs\\optimization\\lib\\site-packages\\sklearn\\manifold\\_t_sne.py:790: FutureWarning: The default learning rate in TSNE will change from 200.0 to 'auto' in 1.2.\n",
      "  warnings.warn(\n"
     ]
    },
    {
     "data": {
      "text/plain": "<Figure size 1008x576 with 1 Axes>",
      "image/png": "[encoded data removed]"
     },
     "metadata": {
      "needs_background": "light"
     },
     "output_type": "display_data"
    }
   ],
   "source": [
    "from sklearn.manifold import TSNE\n",
    "import numpy as np\n",
    "import matplotlib.pyplot as plt\n",
    "\n",
    "pd.options.display.max_colwidth = 200\n",
    "%matplotlib inline\n",
    "words = sum([[k] + v for k, v in similar_words.items()], [])\n",
    "wvs = w2v_model.wv[words]\n",
    "\n",
    "tsne = TSNE(n_components=2, random_state=0, n_iter=10000, perplexity=2)\n",
    "np.set_printoptions(suppress=True)\n",
    "T = tsne.fit_transform(wvs)\n",
    "labels = words\n",
    "\n",
    "plt.figure(figsize=(14, 8))\n",
    "plt.scatter(T[:, 0], T[:, 1], c='orange', edgecolors='r')\n",
    "for label, x, y in zip(labels, T[:, 0], T[:, 1]):\n",
    "    plt.annotate(label, xy=(x+1, y+1), xytext=(0, 0), textcoords='offset points')"
   ],
   "metadata": {
    "collapsed": false,
    "pycharm": {
     "name": "#%%\n"
    }
   }
  }
 ],
 "metadata": {
  "kernelspec": {
   "display_name": "Python 3",
   "language": "python",
   "name": "python3"
  },
  "language_info": {
   "codemirror_mode": {
    "name": "ipython",
    "version": 2
   },
   "file_extension": ".py",
   "mimetype": "text/x-python",
   "name": "python",
   "nbconvert_exporter": "python",
   "pygments_lexer": "ipython2",
   "version": "2.7.6"
  }
 },
 "nbformat": 4,
 "nbformat_minor": 0
}