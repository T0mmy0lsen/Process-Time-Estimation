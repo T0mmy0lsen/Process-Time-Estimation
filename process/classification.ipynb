{
 "cells": [
  {
   "cell_type": "code",
   "execution_count": 58,
   "outputs": [],
   "source": [
    "import datetime\n",
    "from dateutil import parser\n",
    "\n",
    "import tensorflow as tf\n",
    "import pandas as pd\n",
    "import numpy as np\n",
    "import matplotlib.pyplot as plt\n",
    "import seaborn as sns\n",
    "import re\n",
    "import nltk\n",
    "import random\n",
    "\n",
    "\n",
    "\n",
    "import objs.Request\n",
    "\n",
    "from objs.Request import Requests\n",
    "from importlib import reload\n",
    "\n",
    "from sklearn.model_selection import KFold\n",
    "\n",
    "%config IPCompleter.greedy=True\n",
    "%config IPCompleter.use_jedi=False"
   ],
   "metadata": {
    "collapsed": false,
    "pycharm": {
     "name": "#%%\n"
    }
   }
  },
  {
   "cell_type": "code",
   "execution_count": 59,
   "outputs": [
    {
     "data": {
      "text/plain": "[PhysicalDevice(name='/physical_device:GPU:0', device_type='GPU')]"
     },
     "execution_count": 59,
     "metadata": {},
     "output_type": "execute_result"
    }
   ],
   "source": [
    "tf.config.list_physical_devices('GPU')"
   ],
   "metadata": {
    "collapsed": false,
    "pycharm": {
     "name": "#%%\n"
    }
   }
  },
  {
   "cell_type": "code",
   "execution_count": 67,
   "outputs": [
    {
     "name": "stdout",
     "output_type": "stream",
     "text": [
      "<class 'pandas.core.frame.DataFrame'>\n",
      "Int64Index: 331 entries, 0 to 333\n",
      "Data columns (total 10 columns):\n",
      " #   Column        Non-Null Count  Dtype         \n",
      "---  ------        --------------  -----         \n",
      " 0   id            331 non-null    int64         \n",
      " 1   description   331 non-null    object        \n",
      " 2   subject       331 non-null    object        \n",
      " 3   solution      331 non-null    object        \n",
      " 4   receivedDate  331 non-null    datetime64[ns]\n",
      " 5   solutionDate  331 non-null    object        \n",
      " 6   deadline      331 non-null    datetime64[ns]\n",
      " 7   priority      331 non-null    object        \n",
      " 8   hasError      331 non-null    bool          \n",
      " 9   process       331 non-null    int64         \n",
      "dtypes: bool(1), datetime64[ns](2), int64(2), object(5)\n",
      "memory usage: 26.2+ KB\n",
      "          id                                        description  \\\n",
      "0    3703067                                              test1   \n",
      "1    3703079                                              test2   \n",
      "2    3703098  Tidligere Efecte&nbsp;sag: INC-00372363<br />\\...   \n",
      "3    3703107  Hej Lene,<br />\\n&nbsp;<br />\\nVi overvejer li...   \n",
      "4    3703139  dsfadfasdfadsfasdfa<strong>dfas<em>df</em>asdf...   \n",
      "..       ...                                                ...   \n",
      "329  3771759  Hi Peter,\\n<div>&nbsp;</div>\\n\\n<div>I found 2...   \n",
      "330  3779395  Jeg har en fil med brugernavne som er sendt di...   \n",
      "331  3779410  <!--[if !mso]><style>v\\:* {behavior:url(#defau...   \n",
      "332  3779461  <!--[if !mso]><style>v\\:* {behavior:url(#defau...   \n",
      "333  3787142  <div>Hej,\\n<div>&nbsp;</div>\\n\\n<div>jeg har e...   \n",
      "\n",
      "                                               subject  \\\n",
      "0                                                test1   \n",
      "1                                                test2   \n",
      "2                   Lån af eksamens PC 7 og 12 januar.   \n",
      "3    Mail adresser og stedfortræderadgang til mails...   \n",
      "4                                     Test sag Nichlas   \n",
      "..                                                 ...   \n",
      "329  Re: 2 skærme til lab til Amelia-Elena Rotaru , BI   \n",
      "330  Oprettelse af eksterne brugere i AD uden en SD...   \n",
      "331  fraværsmeddelelse for Lisbeth Saxtorph - VIGTI...   \n",
      "332                   Bestilling ny stationær computer   \n",
      "333         Reservering af pc til eksamen fredag 18.12   \n",
      "\n",
      "                                              solution        receivedDate  \\\n",
      "0                                                dsvsa 2015-12-16 07:13:00   \n",
      "1                                               feafwe 2015-12-16 07:17:00   \n",
      "2    Han har afleveret tilbage her på dag. 2 af udlån. 2015-12-16 07:25:00   \n",
      "3                                              Lukket? 2015-12-16 07:30:00   \n",
      "4                                              adscadc 2015-12-16 07:37:00   \n",
      "..                                                 ...                 ...   \n",
      "329                                 Ready for delivery 2015-12-16 16:52:00   \n",
      "330                                             lukket 2015-12-16 16:51:00   \n",
      "331                       Hun har allerede et autosvar 2015-12-16 18:40:00   \n",
      "332                    Skal have ny med SSD fra lager. 2015-12-16 18:37:00   \n",
      "333                                          Afleveret 2015-12-16 18:25:00   \n",
      "\n",
      "            solutionDate            deadline priority  hasError  process  \n",
      "0    2015-12-16 08:56:00 2015-12-16 07:17:00        3     False     2580  \n",
      "1    2015-12-16 08:51:00 2015-12-18 16:00:00        3     False     2040  \n",
      "2    2016-01-12 12:50:00 2016-01-12 14:30:00        3     False  2348700  \n",
      "3    2016-01-06 15:59:00 2015-12-18 16:00:00        3     False  1841340  \n",
      "4    2015-12-16 12:47:00 2015-12-18 16:00:00        3     False    15000  \n",
      "..                   ...                 ...      ...       ...      ...  \n",
      "329  2015-12-17 11:31:00 2015-12-21 16:00:00        3     False    63540  \n",
      "330  2016-01-13 13:54:00 2015-12-21 16:00:00        3     False  2404980  \n",
      "331  2015-12-17 10:32:00 2015-12-21 16:00:00        3     False    53520  \n",
      "332  2016-01-06 13:04:00 2015-12-21 16:00:00        3     False  1790820  \n",
      "333  2015-12-21 11:03:00 2015-12-16 18:27:00        3     False   401880  \n",
      "\n",
      "[331 rows x 10 columns]\n"
     ]
    }
   ],
   "source": [
    "reload(objs.Request)\n",
    "\n",
    "rs = Requests().get_between_sql(\n",
    "        str(datetime.datetime(2015, 12, 16)),\n",
    "        str(datetime.datetime(2015, 12, 17))\n",
    "    )\n",
    "\n",
    "def get_has_error(x):\n",
    "    return (\n",
    "        isinstance(x['solutionDate'], str)\n",
    "    )\n",
    "\n",
    "def get_process(x):\n",
    "    return int(x.solutionDate.timestamp()) - int(x.receivedDate.timestamp())\n",
    "\n",
    "data = pd.DataFrame(rs, columns=Requests().fillables)\n",
    "\n",
    "data['hasError'] = data.apply(lambda x: get_has_error(x), axis=1)\n",
    "data = data[~data['hasError']]\n",
    "\n",
    "data['process'] = data.apply(lambda x: get_process(x), axis=1)\n",
    "data.info()\n",
    "print(data)\n"
   ],
   "metadata": {
    "collapsed": false,
    "pycharm": {
     "name": "#%%\n"
    }
   }
  }
 ],
 "metadata": {
  "kernelspec": {
   "display_name": "Python 3",
   "language": "python",
   "name": "python3"
  },
  "language_info": {
   "codemirror_mode": {
    "name": "ipython",
    "version": 2
   },
   "file_extension": ".py",
   "mimetype": "text/x-python",
   "name": "python",
   "nbconvert_exporter": "python",
   "pygments_lexer": "ipython2",
   "version": "2.7.6"
  }
 },
 "nbformat": 4,
 "nbformat_minor": 0
}